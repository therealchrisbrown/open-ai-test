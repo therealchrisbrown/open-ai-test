{
 "cells": [
  {
   "cell_type": "code",
   "execution_count": 5,
   "metadata": {},
   "outputs": [],
   "source": [
    "# OPENAI Key\n",
    "from decouple import config\n",
    "OPEN_AI_API_KEY=config('OPENAI_API_KEY')\n",
    "\n",
    "# Bibs\n",
    "import os\n",
    "import openai\n",
    "openai.api_key=OPEN_AI_API_KEY"
   ]
  },
  {
   "cell_type": "code",
   "execution_count": 6,
   "metadata": {},
   "outputs": [
    {
     "name": "stdout",
     "output_type": "stream",
     "text": [
      "{\n",
      "  \"choices\": [\n",
      "    {\n",
      "      \"finish_reason\": \"stop\",\n",
      "      \"index\": 0,\n",
      "      \"message\": {\n",
      "        \"content\": \"The distance between Cologne and Frankfurt is approximately 190 km.\",\n",
      "        \"role\": \"assistant\"\n",
      "      }\n",
      "    }\n",
      "  ],\n",
      "  \"created\": 1679851757,\n",
      "  \"id\": \"chatcmpl-6yOT7OifwY28vEUQn7DZUtyzqRjG6\",\n",
      "  \"model\": \"gpt-3.5-turbo-0301\",\n",
      "  \"object\": \"chat.completion\",\n",
      "  \"usage\": {\n",
      "    \"completion_tokens\": 12,\n",
      "    \"prompt_tokens\": 19,\n",
      "    \"total_tokens\": 31\n",
      "  }\n",
      "}\n"
     ]
    }
   ],
   "source": [
    "completion = openai.ChatCompletion.create(\n",
    "    model=\"gpt-3.5-turbo\",\n",
    "    messages=[{\"role\":\"user\", \"content\": \"What is distance between cologne and frankfurt in km?\"}]\n",
    ")\n",
    "\n",
    "print(completion)"
   ]
  },
  {
   "cell_type": "code",
   "execution_count": 7,
   "metadata": {},
   "outputs": [
    {
     "name": "stdout",
     "output_type": "stream",
     "text": [
      "The distance between Cologne and Frankfurt is approximately 190 km.\n"
     ]
    }
   ],
   "source": [
    "reply_content = completion.choices[0].message.content\n",
    "print(reply_content)"
   ]
  },
  {
   "cell_type": "code",
   "execution_count": 8,
   "metadata": {},
   "outputs": [
    {
     "name": "stdout",
     "output_type": "stream",
     "text": [
      "User's input was What is distance between cologne and frankfurt in km?\n"
     ]
    }
   ],
   "source": [
    "message_history = []\n",
    "user_input = input(\">: \")\n",
    "\n",
    "print(\"User's input was\", user_input)"
   ]
  },
  {
   "cell_type": "code",
   "execution_count": 9,
   "metadata": {},
   "outputs": [],
   "source": [
    "message_history.append({\"role\": \"user\", \"content\": user_input})"
   ]
  },
  {
   "cell_type": "code",
   "execution_count": 10,
   "metadata": {},
   "outputs": [
    {
     "name": "stdout",
     "output_type": "stream",
     "text": [
      "The distance between Cologne and Frankfurt is approximately 190.6 km.\n"
     ]
    }
   ],
   "source": [
    "completion = openai.ChatCompletion.create(\n",
    "    model=\"gpt-3.5-turbo\",\n",
    "    messages=message_history\n",
    ")\n",
    "reply_content = completion.choices[0].message.content\n",
    "print(reply_content)"
   ]
  },
  {
   "cell_type": "code",
   "execution_count": 11,
   "metadata": {},
   "outputs": [],
   "source": [
    "message_history.append({\"role\": \"assistant\", \"content\": reply_content})"
   ]
  },
  {
   "cell_type": "code",
   "execution_count": 12,
   "metadata": {},
   "outputs": [
    {
     "name": "stdout",
     "output_type": "stream",
     "text": [
      "User's input was Is it safe to drink water in a city like cologne?\n",
      "\n",
      "As an AI language model, I don't currently have the ability to provide up-to-date information on the water quality of specific cities. However, in general, tap water in many cities in Germany including Cologne is considered safe to drink as it undergoes strict quality control processes. German tap water is highly regulated and is regularly tested to ensure that it meets the highest standards set by the European Union. In case you have any concerns, you can also purchase bottled water from local stores.\n"
     ]
    }
   ],
   "source": [
    "user_input = input(\">: \")\n",
    "print(\"User's input was\", user_input)\n",
    "print()\n",
    "message_history.append({\"role\": \"user\", \"content\": user_input})\n",
    "\n",
    "\n",
    "completion = openai.ChatCompletion.create(\n",
    "    model=\"gpt-3.5-turbo\",\n",
    "    messages=message_history\n",
    ")\n",
    "\n",
    "reply_content = completion.choices[0].message.content\n",
    "print(reply_content)"
   ]
  },
  {
   "cell_type": "code",
   "execution_count": 13,
   "metadata": {},
   "outputs": [
    {
     "name": "stdout",
     "output_type": "stream",
     "text": [
      "[{'role': 'user', 'content': 'What is distance between cologne and frankfurt in km?'}, {'role': 'assistant', 'content': 'The distance between Cologne and Frankfurt is approximately 190.6 km.'}, {'role': 'user', 'content': 'Is it safe to drink water in a city like cologne?'}]\n"
     ]
    }
   ],
   "source": [
    "print(message_history)"
   ]
  },
  {
   "cell_type": "code",
   "execution_count": 14,
   "metadata": {},
   "outputs": [
    {
     "name": "stdout",
     "output_type": "stream",
     "text": [
      "User's input was what can i do to get a high quality of water in a city like cologne?\n",
      "\n",
      "As an AI language model, I don't have personal experience or feelings, but I can tell you some ways to get high-quality water in a city like Cologne. Here are some suggestions:\n",
      "\n",
      "1. Drink filtered water. Use a quality water filter to remove any impurities and bacteria from tap water.\n",
      "\n",
      "2. Don't buy bottled water. Bottled water is not only expensive but also low-quality. Tap water in Cologne is of high quality and safe to drink.\n",
      "\n",
      "3. Keep your water container clean. Wash your water containers and water bottles regularly to keep them clean and free of bacteria.\n",
      "\n",
      "4. Check your plumbing. Ensure that your plumbing is in good condition, without leaks or corrosion. Old pipes can cause toxins to enter the water.\n",
      "\n",
      "5. Boil your water. Boiling your water for at least 1 minute can help kill any bacteria or viruses that may be present.\n",
      "\n",
      "6. Use a reverse osmosis system. A water purification system like reverse osmosis may be installed in your home to filter out contaminants.\n",
      "\n",
      "7. Monitor water quality. Check the water quality reports from the local water utility. Report any issues or concerns you have about the quality of the water.\n",
      "\n",
      "User's input was can you evaluate on point 2 please\n",
      "\n",
      "Sure, I can provide more information on point 2 about bottled water in Cologne.\n",
      "\n",
      "Bottled water is not necessarily better than tap water in Cologne. In fact, tap water in Cologne is of high quality and undergoes strict monitoring to ensure it meets German drinking water standards. According to the local water utility, the water in Cologne is safe to drink without any additional treatment.\n",
      "\n",
      "Buying bottled water can be expensive and has negative impacts on the environment. The production of plastic bottles and transportation of bottled water relies heavily on fossil fuels, contributing to greenhouse gas emissions and plastic pollution. Additionally, many bottled water brands are not transparent about their sourcing and treatment processes, so it is difficult to confirm the quality of the water.\n",
      "\n",
      "Therefore, it is recommended to drink tap water in Cologne to ensure high-quality and safe drinking water while also reducing waste and environmental impact.\n",
      "\n"
     ]
    }
   ],
   "source": [
    "message_history = [] \n",
    "\n",
    "def chat(inp, role=\"user\"):\n",
    "    message_history.append({\"role\": role, \"content\": inp})\n",
    "\n",
    "    completion = openai.ChatCompletion.create(\n",
    "        model=\"gpt-3.5-turbo\",\n",
    "        messages=message_history\n",
    "    )\n",
    "\n",
    "    reply_content = completion.choices[0].message.content\n",
    "    print(reply_content)\n",
    "    message_history.append({\"role\": \"assistant\", \"content\": reply_content})\n",
    "    return reply_content\n",
    "\n",
    "for i in range(2):\n",
    "    user_input = input(\">: \")\n",
    "    print(\"User's input was\", user_input)\n",
    "    print()\n",
    "    chat(user_input)\n",
    "    print()"
   ]
  },
  {
   "cell_type": "code",
   "execution_count": null,
   "metadata": {},
   "outputs": [],
   "source": []
  }
 ],
 "metadata": {
  "kernelspec": {
   "display_name": "openai-test",
   "language": "python",
   "name": "python3"
  },
  "language_info": {
   "codemirror_mode": {
    "name": "ipython",
    "version": 3
   },
   "file_extension": ".py",
   "mimetype": "text/x-python",
   "name": "python",
   "nbconvert_exporter": "python",
   "pygments_lexer": "ipython3",
   "version": "3.9.16"
  },
  "orig_nbformat": 4
 },
 "nbformat": 4,
 "nbformat_minor": 2
}
